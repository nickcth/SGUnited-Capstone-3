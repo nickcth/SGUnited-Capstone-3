{
 "cells": [
  {
   "cell_type": "markdown",
   "metadata": {
    "button": false,
    "new_sheet": false,
    "run_control": {
     "read_only": false
    }
   },
   "source": [
    "In this notebook we download the salary dataset to construct prediction models.\n",
    "\n",
    "We load a dataset using Pandas library, and apply the following algorithms, and find the best one for this specific dataset by accuracy evaluation methods.\n",
    "\n",
    "Lets first load required libraries:"
   ]
  },
  {
   "cell_type": "code",
   "execution_count": 1,
   "metadata": {
    "button": false,
    "new_sheet": false,
    "run_control": {
     "read_only": false
    }
   },
   "outputs": [],
   "source": [
    "import itertools\n",
    "import numpy as np\n",
    "import matplotlib.pyplot as plt\n",
    "from matplotlib.ticker import NullFormatter\n",
    "import pandas as pd\n",
    "import numpy as np\n",
    "import matplotlib.ticker as ticker\n",
    "from sklearn import preprocessing\n",
    "%matplotlib inline"
   ]
  },
  {
   "cell_type": "markdown",
   "metadata": {
    "button": false,
    "new_sheet": false,
    "run_control": {
     "read_only": false
    }
   },
   "source": [
    "Lets download the dataset"
   ]
  },
  {
   "cell_type": "markdown",
   "metadata": {
    "button": false,
    "new_sheet": false,
    "run_control": {
     "read_only": false
    }
   },
   "source": [
    "### Load Data From CSV File  "
   ]
  },
  {
   "cell_type": "code",
   "execution_count": 3,
   "metadata": {
    "button": false,
    "new_sheet": false,
    "run_control": {
     "read_only": false
    }
   },
   "outputs": [
    {
     "data": {
      "text/html": [
       "<div>\n",
       "<style scoped>\n",
       "    .dataframe tbody tr th:only-of-type {\n",
       "        vertical-align: middle;\n",
       "    }\n",
       "\n",
       "    .dataframe tbody tr th {\n",
       "        vertical-align: top;\n",
       "    }\n",
       "\n",
       "    .dataframe thead th {\n",
       "        text-align: right;\n",
       "    }\n",
       "</style>\n",
       "<table border=\"1\" class=\"dataframe\">\n",
       "  <thead>\n",
       "    <tr style=\"text-align: right;\">\n",
       "      <th></th>\n",
       "    </tr>\n",
       "  </thead>\n",
       "  <tbody>\n",
       "  </tbody>\n",
       "</table>\n",
       "</div>"
      ],
      "text/plain": [
       "Empty DataFrame\n",
       "Columns: []\n",
       "Index: []"
      ]
     },
     "execution_count": 3,
     "metadata": {},
     "output_type": "execute_result"
    }
   ],
   "source": [
    "df = pd.read_csv('C:/Users/taihs/OneDrive/Documents/SGunited Data Analyst/capstone 3/salary_new.csv')\n",
    "df.head()\n",
    "df.corr()"
   ]
  },
  {
   "cell_type": "code",
   "execution_count": 119,
   "metadata": {},
   "outputs": [
    {
     "data": {
      "text/plain": [
       "(8383, 6)"
      ]
     },
     "execution_count": 119,
     "metadata": {},
     "output_type": "execute_result"
    }
   ],
   "source": [
    "df.shape"
   ]
  },
  {
   "cell_type": "markdown",
   "metadata": {
    "button": false,
    "new_sheet": false,
    "run_control": {
     "read_only": false
    }
   },
   "source": [
    "## Convert Categorical features to numerical values"
   ]
  },
  {
   "cell_type": "markdown",
   "metadata": {
    "button": false,
    "new_sheet": false,
    "run_control": {
     "read_only": false
    }
   },
   "source": [
    "Lets convert male to 0 and female to 1:\n"
   ]
  },
  {
   "cell_type": "code",
   "execution_count": 120,
   "metadata": {
    "button": false,
    "new_sheet": false,
    "run_control": {
     "read_only": false
    }
   },
   "outputs": [
    {
     "data": {
      "text/html": [
       "<div>\n",
       "<style scoped>\n",
       "    .dataframe tbody tr th:only-of-type {\n",
       "        vertical-align: middle;\n",
       "    }\n",
       "\n",
       "    .dataframe tbody tr th {\n",
       "        vertical-align: top;\n",
       "    }\n",
       "\n",
       "    .dataframe thead th {\n",
       "        text-align: right;\n",
       "    }\n",
       "</style>\n",
       "<table border=\"1\" class=\"dataframe\">\n",
       "  <thead>\n",
       "    <tr style=\"text-align: right;\">\n",
       "      <th></th>\n",
       "      <th>age</th>\n",
       "      <th>gender</th>\n",
       "      <th>country</th>\n",
       "      <th>education</th>\n",
       "      <th>job</th>\n",
       "      <th>salary</th>\n",
       "    </tr>\n",
       "  </thead>\n",
       "  <tbody>\n",
       "    <tr>\n",
       "      <th>0</th>\n",
       "      <td>30-34</td>\n",
       "      <td>0</td>\n",
       "      <td>United States of America</td>\n",
       "      <td>Master’s degree</td>\n",
       "      <td>Data Engineer</td>\n",
       "      <td>100,000-124,999</td>\n",
       "    </tr>\n",
       "    <tr>\n",
       "      <th>1</th>\n",
       "      <td>35-39</td>\n",
       "      <td>0</td>\n",
       "      <td>Argentina</td>\n",
       "      <td>Bachelor’s degree</td>\n",
       "      <td>Software Engineer</td>\n",
       "      <td>0-29,999</td>\n",
       "    </tr>\n",
       "    <tr>\n",
       "      <th>2</th>\n",
       "      <td>30-34</td>\n",
       "      <td>0</td>\n",
       "      <td>United States of America</td>\n",
       "      <td>Master’s degree</td>\n",
       "      <td>Data Scientist</td>\n",
       "      <td>125,000-149,999</td>\n",
       "    </tr>\n",
       "    <tr>\n",
       "      <th>3</th>\n",
       "      <td>35-39</td>\n",
       "      <td>0</td>\n",
       "      <td>Germany</td>\n",
       "      <td>Doctoral degree</td>\n",
       "      <td>Data Scientist</td>\n",
       "      <td>70,000-79,999</td>\n",
       "    </tr>\n",
       "    <tr>\n",
       "      <th>4</th>\n",
       "      <td>35-39</td>\n",
       "      <td>0</td>\n",
       "      <td>United States of America</td>\n",
       "      <td>Doctoral degree</td>\n",
       "      <td>Research Scientist</td>\n",
       "      <td>30,000-39,999</td>\n",
       "    </tr>\n",
       "  </tbody>\n",
       "</table>\n",
       "</div>"
      ],
      "text/plain": [
       "     age  gender                   country          education  \\\n",
       "0  30-34       0  United States of America    Master’s degree   \n",
       "1  35-39       0                 Argentina  Bachelor’s degree   \n",
       "2  30-34       0  United States of America    Master’s degree   \n",
       "3  35-39       0                   Germany    Doctoral degree   \n",
       "4  35-39       0  United States of America    Doctoral degree   \n",
       "\n",
       "                  job           salary  \n",
       "0       Data Engineer  100,000-124,999  \n",
       "1   Software Engineer         0-29,999  \n",
       "2      Data Scientist  125,000-149,999  \n",
       "3      Data Scientist    70,000-79,999  \n",
       "4  Research Scientist    30,000-39,999  "
      ]
     },
     "execution_count": 120,
     "metadata": {},
     "output_type": "execute_result"
    }
   ],
   "source": [
    "df['gender'].replace(to_replace=['Male','Female'], value=[0,1],inplace=True)\n",
    "df.head()"
   ]
  },
  {
   "cell_type": "markdown",
   "metadata": {
    "button": false,
    "new_sheet": false,
    "run_control": {
     "read_only": false
    }
   },
   "source": [
    "## One Hot Encoding  \n",
    "#### How about education?"
   ]
  },
  {
   "cell_type": "markdown",
   "metadata": {
    "button": false,
    "new_sheet": false,
    "run_control": {
     "read_only": false
    }
   },
   "source": [
    "#### Feature befor One Hot Encoding"
   ]
  },
  {
   "cell_type": "markdown",
   "metadata": {
    "button": false,
    "new_sheet": false,
    "run_control": {
     "read_only": false
    }
   },
   "source": [
    "#### Use one hot encoding technique to conver categorical varables to binary variables and append them to the feature Data Frame "
   ]
  },
  {
   "cell_type": "code",
   "execution_count": 121,
   "metadata": {
    "button": false,
    "new_sheet": false,
    "run_control": {
     "read_only": false
    }
   },
   "outputs": [
    {
     "data": {
      "text/html": [
       "<div>\n",
       "<style scoped>\n",
       "    .dataframe tbody tr th:only-of-type {\n",
       "        vertical-align: middle;\n",
       "    }\n",
       "\n",
       "    .dataframe tbody tr th {\n",
       "        vertical-align: top;\n",
       "    }\n",
       "\n",
       "    .dataframe thead th {\n",
       "        text-align: right;\n",
       "    }\n",
       "</style>\n",
       "<table border=\"1\" class=\"dataframe\">\n",
       "  <thead>\n",
       "    <tr style=\"text-align: right;\">\n",
       "      <th></th>\n",
       "      <th>gender</th>\n",
       "      <th>18-21</th>\n",
       "      <th>22-24</th>\n",
       "      <th>25-29</th>\n",
       "      <th>30-34</th>\n",
       "      <th>35-39</th>\n",
       "      <th>40-44</th>\n",
       "      <th>45-49</th>\n",
       "      <th>50-54</th>\n",
       "      <th>55-59</th>\n",
       "      <th>...</th>\n",
       "      <th>Switzerland</th>\n",
       "      <th>Taiwan</th>\n",
       "      <th>Thailand</th>\n",
       "      <th>Tunisia</th>\n",
       "      <th>Turkey</th>\n",
       "      <th>Ukraine</th>\n",
       "      <th>United Arab Emirates</th>\n",
       "      <th>United Kingdom of Great Britain and Northern Ireland</th>\n",
       "      <th>United States of America</th>\n",
       "      <th>Viet Nam</th>\n",
       "    </tr>\n",
       "  </thead>\n",
       "  <tbody>\n",
       "    <tr>\n",
       "      <th>0</th>\n",
       "      <td>0</td>\n",
       "      <td>0</td>\n",
       "      <td>0</td>\n",
       "      <td>0</td>\n",
       "      <td>1</td>\n",
       "      <td>0</td>\n",
       "      <td>0</td>\n",
       "      <td>0</td>\n",
       "      <td>0</td>\n",
       "      <td>0</td>\n",
       "      <td>...</td>\n",
       "      <td>0</td>\n",
       "      <td>0</td>\n",
       "      <td>0</td>\n",
       "      <td>0</td>\n",
       "      <td>0</td>\n",
       "      <td>0</td>\n",
       "      <td>0</td>\n",
       "      <td>0</td>\n",
       "      <td>1</td>\n",
       "      <td>0</td>\n",
       "    </tr>\n",
       "    <tr>\n",
       "      <th>1</th>\n",
       "      <td>0</td>\n",
       "      <td>0</td>\n",
       "      <td>0</td>\n",
       "      <td>0</td>\n",
       "      <td>0</td>\n",
       "      <td>1</td>\n",
       "      <td>0</td>\n",
       "      <td>0</td>\n",
       "      <td>0</td>\n",
       "      <td>0</td>\n",
       "      <td>...</td>\n",
       "      <td>0</td>\n",
       "      <td>0</td>\n",
       "      <td>0</td>\n",
       "      <td>0</td>\n",
       "      <td>0</td>\n",
       "      <td>0</td>\n",
       "      <td>0</td>\n",
       "      <td>0</td>\n",
       "      <td>0</td>\n",
       "      <td>0</td>\n",
       "    </tr>\n",
       "    <tr>\n",
       "      <th>2</th>\n",
       "      <td>0</td>\n",
       "      <td>0</td>\n",
       "      <td>0</td>\n",
       "      <td>0</td>\n",
       "      <td>1</td>\n",
       "      <td>0</td>\n",
       "      <td>0</td>\n",
       "      <td>0</td>\n",
       "      <td>0</td>\n",
       "      <td>0</td>\n",
       "      <td>...</td>\n",
       "      <td>0</td>\n",
       "      <td>0</td>\n",
       "      <td>0</td>\n",
       "      <td>0</td>\n",
       "      <td>0</td>\n",
       "      <td>0</td>\n",
       "      <td>0</td>\n",
       "      <td>0</td>\n",
       "      <td>1</td>\n",
       "      <td>0</td>\n",
       "    </tr>\n",
       "    <tr>\n",
       "      <th>3</th>\n",
       "      <td>0</td>\n",
       "      <td>0</td>\n",
       "      <td>0</td>\n",
       "      <td>0</td>\n",
       "      <td>0</td>\n",
       "      <td>1</td>\n",
       "      <td>0</td>\n",
       "      <td>0</td>\n",
       "      <td>0</td>\n",
       "      <td>0</td>\n",
       "      <td>...</td>\n",
       "      <td>0</td>\n",
       "      <td>0</td>\n",
       "      <td>0</td>\n",
       "      <td>0</td>\n",
       "      <td>0</td>\n",
       "      <td>0</td>\n",
       "      <td>0</td>\n",
       "      <td>0</td>\n",
       "      <td>0</td>\n",
       "      <td>0</td>\n",
       "    </tr>\n",
       "    <tr>\n",
       "      <th>4</th>\n",
       "      <td>0</td>\n",
       "      <td>0</td>\n",
       "      <td>0</td>\n",
       "      <td>0</td>\n",
       "      <td>0</td>\n",
       "      <td>1</td>\n",
       "      <td>0</td>\n",
       "      <td>0</td>\n",
       "      <td>0</td>\n",
       "      <td>0</td>\n",
       "      <td>...</td>\n",
       "      <td>0</td>\n",
       "      <td>0</td>\n",
       "      <td>0</td>\n",
       "      <td>0</td>\n",
       "      <td>0</td>\n",
       "      <td>0</td>\n",
       "      <td>0</td>\n",
       "      <td>0</td>\n",
       "      <td>1</td>\n",
       "      <td>0</td>\n",
       "    </tr>\n",
       "  </tbody>\n",
       "</table>\n",
       "<p>5 rows × 83 columns</p>\n",
       "</div>"
      ],
      "text/plain": [
       "   gender  18-21  22-24  25-29  30-34  35-39  40-44  45-49  50-54  55-59  ...  \\\n",
       "0       0      0      0      0      1      0      0      0      0      0  ...   \n",
       "1       0      0      0      0      0      1      0      0      0      0  ...   \n",
       "2       0      0      0      0      1      0      0      0      0      0  ...   \n",
       "3       0      0      0      0      0      1      0      0      0      0  ...   \n",
       "4       0      0      0      0      0      1      0      0      0      0  ...   \n",
       "\n",
       "   Switzerland  Taiwan  Thailand  Tunisia  Turkey  Ukraine  \\\n",
       "0            0       0         0        0       0        0   \n",
       "1            0       0         0        0       0        0   \n",
       "2            0       0         0        0       0        0   \n",
       "3            0       0         0        0       0        0   \n",
       "4            0       0         0        0       0        0   \n",
       "\n",
       "   United Arab Emirates  United Kingdom of Great Britain and Northern Ireland  \\\n",
       "0                     0                                                  0      \n",
       "1                     0                                                  0      \n",
       "2                     0                                                  0      \n",
       "3                     0                                                  0      \n",
       "4                     0                                                  0      \n",
       "\n",
       "   United States of America  Viet Nam  \n",
       "0                         1         0  \n",
       "1                         0         0  \n",
       "2                         1         0  \n",
       "3                         0         0  \n",
       "4                         1         0  \n",
       "\n",
       "[5 rows x 83 columns]"
      ]
     },
     "execution_count": 121,
     "metadata": {},
     "output_type": "execute_result"
    }
   ],
   "source": [
    "Feature = df[['gender']]\n",
    "Feature = pd.concat([Feature,pd.get_dummies(df['age'])], axis=1)\n",
    "Feature = pd.concat([Feature,pd.get_dummies(df['education'])], axis=1)\n",
    "Feature = pd.concat([Feature,pd.get_dummies(df['job'])], axis=1)\n",
    "Feature = pd.concat([Feature,pd.get_dummies(df['country'])], axis=1)\n",
    "Feature.head()\n"
   ]
  },
  {
   "cell_type": "markdown",
   "metadata": {
    "button": false,
    "new_sheet": false,
    "run_control": {
     "read_only": false
    }
   },
   "source": [
    "### Feature selection"
   ]
  },
  {
   "cell_type": "markdown",
   "metadata": {
    "button": false,
    "new_sheet": false,
    "run_control": {
     "read_only": false
    }
   },
   "source": [
    "Lets defind feature sets, X:"
   ]
  },
  {
   "cell_type": "code",
   "execution_count": 122,
   "metadata": {
    "button": false,
    "new_sheet": false,
    "run_control": {
     "read_only": false
    }
   },
   "outputs": [
    {
     "data": {
      "text/html": [
       "<div>\n",
       "<style scoped>\n",
       "    .dataframe tbody tr th:only-of-type {\n",
       "        vertical-align: middle;\n",
       "    }\n",
       "\n",
       "    .dataframe tbody tr th {\n",
       "        vertical-align: top;\n",
       "    }\n",
       "\n",
       "    .dataframe thead th {\n",
       "        text-align: right;\n",
       "    }\n",
       "</style>\n",
       "<table border=\"1\" class=\"dataframe\">\n",
       "  <thead>\n",
       "    <tr style=\"text-align: right;\">\n",
       "      <th></th>\n",
       "      <th>gender</th>\n",
       "      <th>18-21</th>\n",
       "      <th>22-24</th>\n",
       "      <th>25-29</th>\n",
       "      <th>30-34</th>\n",
       "      <th>35-39</th>\n",
       "      <th>40-44</th>\n",
       "      <th>45-49</th>\n",
       "      <th>50-54</th>\n",
       "      <th>55-59</th>\n",
       "      <th>...</th>\n",
       "      <th>Switzerland</th>\n",
       "      <th>Taiwan</th>\n",
       "      <th>Thailand</th>\n",
       "      <th>Tunisia</th>\n",
       "      <th>Turkey</th>\n",
       "      <th>Ukraine</th>\n",
       "      <th>United Arab Emirates</th>\n",
       "      <th>United Kingdom of Great Britain and Northern Ireland</th>\n",
       "      <th>United States of America</th>\n",
       "      <th>Viet Nam</th>\n",
       "    </tr>\n",
       "  </thead>\n",
       "  <tbody>\n",
       "    <tr>\n",
       "      <th>0</th>\n",
       "      <td>0</td>\n",
       "      <td>0</td>\n",
       "      <td>0</td>\n",
       "      <td>0</td>\n",
       "      <td>1</td>\n",
       "      <td>0</td>\n",
       "      <td>0</td>\n",
       "      <td>0</td>\n",
       "      <td>0</td>\n",
       "      <td>0</td>\n",
       "      <td>...</td>\n",
       "      <td>0</td>\n",
       "      <td>0</td>\n",
       "      <td>0</td>\n",
       "      <td>0</td>\n",
       "      <td>0</td>\n",
       "      <td>0</td>\n",
       "      <td>0</td>\n",
       "      <td>0</td>\n",
       "      <td>1</td>\n",
       "      <td>0</td>\n",
       "    </tr>\n",
       "    <tr>\n",
       "      <th>1</th>\n",
       "      <td>0</td>\n",
       "      <td>0</td>\n",
       "      <td>0</td>\n",
       "      <td>0</td>\n",
       "      <td>0</td>\n",
       "      <td>1</td>\n",
       "      <td>0</td>\n",
       "      <td>0</td>\n",
       "      <td>0</td>\n",
       "      <td>0</td>\n",
       "      <td>...</td>\n",
       "      <td>0</td>\n",
       "      <td>0</td>\n",
       "      <td>0</td>\n",
       "      <td>0</td>\n",
       "      <td>0</td>\n",
       "      <td>0</td>\n",
       "      <td>0</td>\n",
       "      <td>0</td>\n",
       "      <td>0</td>\n",
       "      <td>0</td>\n",
       "    </tr>\n",
       "    <tr>\n",
       "      <th>2</th>\n",
       "      <td>0</td>\n",
       "      <td>0</td>\n",
       "      <td>0</td>\n",
       "      <td>0</td>\n",
       "      <td>1</td>\n",
       "      <td>0</td>\n",
       "      <td>0</td>\n",
       "      <td>0</td>\n",
       "      <td>0</td>\n",
       "      <td>0</td>\n",
       "      <td>...</td>\n",
       "      <td>0</td>\n",
       "      <td>0</td>\n",
       "      <td>0</td>\n",
       "      <td>0</td>\n",
       "      <td>0</td>\n",
       "      <td>0</td>\n",
       "      <td>0</td>\n",
       "      <td>0</td>\n",
       "      <td>1</td>\n",
       "      <td>0</td>\n",
       "    </tr>\n",
       "    <tr>\n",
       "      <th>3</th>\n",
       "      <td>0</td>\n",
       "      <td>0</td>\n",
       "      <td>0</td>\n",
       "      <td>0</td>\n",
       "      <td>0</td>\n",
       "      <td>1</td>\n",
       "      <td>0</td>\n",
       "      <td>0</td>\n",
       "      <td>0</td>\n",
       "      <td>0</td>\n",
       "      <td>...</td>\n",
       "      <td>0</td>\n",
       "      <td>0</td>\n",
       "      <td>0</td>\n",
       "      <td>0</td>\n",
       "      <td>0</td>\n",
       "      <td>0</td>\n",
       "      <td>0</td>\n",
       "      <td>0</td>\n",
       "      <td>0</td>\n",
       "      <td>0</td>\n",
       "    </tr>\n",
       "    <tr>\n",
       "      <th>4</th>\n",
       "      <td>0</td>\n",
       "      <td>0</td>\n",
       "      <td>0</td>\n",
       "      <td>0</td>\n",
       "      <td>0</td>\n",
       "      <td>1</td>\n",
       "      <td>0</td>\n",
       "      <td>0</td>\n",
       "      <td>0</td>\n",
       "      <td>0</td>\n",
       "      <td>...</td>\n",
       "      <td>0</td>\n",
       "      <td>0</td>\n",
       "      <td>0</td>\n",
       "      <td>0</td>\n",
       "      <td>0</td>\n",
       "      <td>0</td>\n",
       "      <td>0</td>\n",
       "      <td>0</td>\n",
       "      <td>1</td>\n",
       "      <td>0</td>\n",
       "    </tr>\n",
       "  </tbody>\n",
       "</table>\n",
       "<p>5 rows × 83 columns</p>\n",
       "</div>"
      ],
      "text/plain": [
       "   gender  18-21  22-24  25-29  30-34  35-39  40-44  45-49  50-54  55-59  ...  \\\n",
       "0       0      0      0      0      1      0      0      0      0      0  ...   \n",
       "1       0      0      0      0      0      1      0      0      0      0  ...   \n",
       "2       0      0      0      0      1      0      0      0      0      0  ...   \n",
       "3       0      0      0      0      0      1      0      0      0      0  ...   \n",
       "4       0      0      0      0      0      1      0      0      0      0  ...   \n",
       "\n",
       "   Switzerland  Taiwan  Thailand  Tunisia  Turkey  Ukraine  \\\n",
       "0            0       0         0        0       0        0   \n",
       "1            0       0         0        0       0        0   \n",
       "2            0       0         0        0       0        0   \n",
       "3            0       0         0        0       0        0   \n",
       "4            0       0         0        0       0        0   \n",
       "\n",
       "   United Arab Emirates  United Kingdom of Great Britain and Northern Ireland  \\\n",
       "0                     0                                                  0      \n",
       "1                     0                                                  0      \n",
       "2                     0                                                  0      \n",
       "3                     0                                                  0      \n",
       "4                     0                                                  0      \n",
       "\n",
       "   United States of America  Viet Nam  \n",
       "0                         1         0  \n",
       "1                         0         0  \n",
       "2                         1         0  \n",
       "3                         0         0  \n",
       "4                         1         0  \n",
       "\n",
       "[5 rows x 83 columns]"
      ]
     },
     "execution_count": 122,
     "metadata": {},
     "output_type": "execute_result"
    }
   ],
   "source": [
    "X = Feature\n",
    "X[0:5]"
   ]
  },
  {
   "cell_type": "markdown",
   "metadata": {
    "button": false,
    "new_sheet": false,
    "run_control": {
     "read_only": false
    }
   },
   "source": [
    "What are our lables?"
   ]
  },
  {
   "cell_type": "code",
   "execution_count": 123,
   "metadata": {
    "button": false,
    "new_sheet": false,
    "run_control": {
     "read_only": false
    }
   },
   "outputs": [
    {
     "data": {
      "text/plain": [
       "array(['100,000-124,999', '0-29,999', '125,000-149,999', '70,000-79,999',\n",
       "       '30,000-39,999'], dtype=object)"
      ]
     },
     "execution_count": 123,
     "metadata": {},
     "output_type": "execute_result"
    }
   ],
   "source": [
    "y = df['salary'].values\n",
    "y[0:5]"
   ]
  },
  {
   "cell_type": "markdown",
   "metadata": {
    "button": false,
    "new_sheet": false,
    "run_control": {
     "read_only": false
    }
   },
   "source": [
    "## Normalize Data "
   ]
  },
  {
   "cell_type": "markdown",
   "metadata": {
    "button": false,
    "new_sheet": false,
    "run_control": {
     "read_only": false
    }
   },
   "source": [
    "Data Standardization give data zero mean and unit variance (technically should be done after train test split )"
   ]
  },
  {
   "cell_type": "code",
   "execution_count": 37,
   "metadata": {
    "button": false,
    "new_sheet": false,
    "run_control": {
     "read_only": false
    }
   },
   "outputs": [
    {
     "data": {
      "text/plain": [
       "array([[-0.43715607, -0.23479568, -0.4073388 , -0.53859935,  2.12062471,\n",
       "        -0.39410625, -0.31620702, -0.27314066, -0.22296187, -0.15911632,\n",
       "        -0.16720738, -0.06836678, -0.63205946, -0.4379301 , -0.11583938,\n",
       "         1.09267026, -0.09307641, -0.20904593, -0.18794075, -0.2811264 ,\n",
       "        -0.10417546, -0.39994465,  4.87120248, -0.59742081, -0.33415008,\n",
       "        -0.26446657, -0.34701923, -0.46189275, -0.16185363, -0.08975945,\n",
       "        -0.11636704, -0.06924188, -0.05992933, -0.0578903 , -0.22148406,\n",
       "        -0.14473254, -0.07976556, -0.13725201, -0.10931948, -0.09564994,\n",
       "        -0.14343859, -0.16493195, -0.04638775, -0.08490547, -0.55681994,\n",
       "        -0.11316613, -0.09043225, -0.0578903 , -0.08200677, -0.13993431,\n",
       "        -0.19856897, -0.08839897, -0.07428036, -0.12253132, -0.08051938,\n",
       "        -0.04507809, -0.10649099, -0.15950995, -0.11741563, -0.08200677,\n",
       "        -0.06836678, -0.10358884, -0.09501286, -0.06748055, -0.0628657 ,\n",
       "        -0.19856897, -0.06748055, -0.08975945, -0.08975945, -0.09691198,\n",
       "        -0.15673583, -0.0628657 , -0.07263892, -0.06836678, -0.11530943,\n",
       "        -0.0841899 , -0.07263892, -0.12793594, -0.10987684, -0.06567288,\n",
       "        -0.18623317,  2.4597688 , -0.09691198],\n",
       "       [-0.43715607, -0.23479568, -0.4073388 , -0.53859935, -0.47155916,\n",
       "         2.53738682, -0.31620702, -0.27314066, -0.22296187, -0.15911632,\n",
       "        -0.16720738, -0.06836678,  1.58212962, -0.4379301 , -0.11583938,\n",
       "        -0.91518918, -0.09307641, -0.20904593, -0.18794075, -0.2811264 ,\n",
       "        -0.10417546, -0.39994465, -0.20528812, -0.59742081, -0.33415008,\n",
       "        -0.26446657, -0.34701923,  2.16500476, -0.16185363, 11.14088879,\n",
       "        -0.11636704, -0.06924188, -0.05992933, -0.0578903 , -0.22148406,\n",
       "        -0.14473254, -0.07976556, -0.13725201, -0.10931948, -0.09564994,\n",
       "        -0.14343859, -0.16493195, -0.04638775, -0.08490547, -0.55681994,\n",
       "        -0.11316613, -0.09043225, -0.0578903 , -0.08200677, -0.13993431,\n",
       "        -0.19856897, -0.08839897, -0.07428036, -0.12253132, -0.08051938,\n",
       "        -0.04507809, -0.10649099, -0.15950995, -0.11741563, -0.08200677,\n",
       "        -0.06836678, -0.10358884, -0.09501286, -0.06748055, -0.0628657 ,\n",
       "        -0.19856897, -0.06748055, -0.08975945, -0.08975945, -0.09691198,\n",
       "        -0.15673583, -0.0628657 , -0.07263892, -0.06836678, -0.11530943,\n",
       "        -0.0841899 , -0.07263892, -0.12793594, -0.10987684, -0.06567288,\n",
       "        -0.18623317, -0.40654227, -0.09691198],\n",
       "       [-0.43715607, -0.23479568, -0.4073388 , -0.53859935,  2.12062471,\n",
       "        -0.39410625, -0.31620702, -0.27314066, -0.22296187, -0.15911632,\n",
       "        -0.16720738, -0.06836678, -0.63205946, -0.4379301 , -0.11583938,\n",
       "         1.09267026, -0.09307641, -0.20904593, -0.18794075, -0.2811264 ,\n",
       "        -0.10417546, -0.39994465, -0.20528812,  1.67386202, -0.33415008,\n",
       "        -0.26446657, -0.34701923, -0.46189275, -0.16185363, -0.08975945,\n",
       "        -0.11636704, -0.06924188, -0.05992933, -0.0578903 , -0.22148406,\n",
       "        -0.14473254, -0.07976556, -0.13725201, -0.10931948, -0.09564994,\n",
       "        -0.14343859, -0.16493195, -0.04638775, -0.08490547, -0.55681994,\n",
       "        -0.11316613, -0.09043225, -0.0578903 , -0.08200677, -0.13993431,\n",
       "        -0.19856897, -0.08839897, -0.07428036, -0.12253132, -0.08051938,\n",
       "        -0.04507809, -0.10649099, -0.15950995, -0.11741563, -0.08200677,\n",
       "        -0.06836678, -0.10358884, -0.09501286, -0.06748055, -0.0628657 ,\n",
       "        -0.19856897, -0.06748055, -0.08975945, -0.08975945, -0.09691198,\n",
       "        -0.15673583, -0.0628657 , -0.07263892, -0.06836678, -0.11530943,\n",
       "        -0.0841899 , -0.07263892, -0.12793594, -0.10987684, -0.06567288,\n",
       "        -0.18623317,  2.4597688 , -0.09691198],\n",
       "       [-0.43715607, -0.23479568, -0.4073388 , -0.53859935, -0.47155916,\n",
       "         2.53738682, -0.31620702, -0.27314066, -0.22296187, -0.15911632,\n",
       "        -0.16720738, -0.06836678, -0.63205946,  2.28346946, -0.11583938,\n",
       "        -0.91518918, -0.09307641, -0.20904593, -0.18794075, -0.2811264 ,\n",
       "        -0.10417546, -0.39994465, -0.20528812,  1.67386202, -0.33415008,\n",
       "        -0.26446657, -0.34701923, -0.46189275, -0.16185363, -0.08975945,\n",
       "        -0.11636704, -0.06924188, -0.05992933, -0.0578903 , -0.22148406,\n",
       "        -0.14473254, -0.07976556, -0.13725201, -0.10931948, -0.09564994,\n",
       "        -0.14343859,  6.06310657, -0.04638775, -0.08490547, -0.55681994,\n",
       "        -0.11316613, -0.09043225, -0.0578903 , -0.08200677, -0.13993431,\n",
       "        -0.19856897, -0.08839897, -0.07428036, -0.12253132, -0.08051938,\n",
       "        -0.04507809, -0.10649099, -0.15950995, -0.11741563, -0.08200677,\n",
       "        -0.06836678, -0.10358884, -0.09501286, -0.06748055, -0.0628657 ,\n",
       "        -0.19856897, -0.06748055, -0.08975945, -0.08975945, -0.09691198,\n",
       "        -0.15673583, -0.0628657 , -0.07263892, -0.06836678, -0.11530943,\n",
       "        -0.0841899 , -0.07263892, -0.12793594, -0.10987684, -0.06567288,\n",
       "        -0.18623317, -0.40654227, -0.09691198],\n",
       "       [-0.43715607, -0.23479568, -0.4073388 , -0.53859935, -0.47155916,\n",
       "         2.53738682, -0.31620702, -0.27314066, -0.22296187, -0.15911632,\n",
       "        -0.16720738, -0.06836678, -0.63205946,  2.28346946, -0.11583938,\n",
       "        -0.91518918, -0.09307641, -0.20904593, -0.18794075, -0.2811264 ,\n",
       "        -0.10417546, -0.39994465, -0.20528812, -0.59742081, -0.33415008,\n",
       "        -0.26446657,  2.88168467, -0.46189275, -0.16185363, -0.08975945,\n",
       "        -0.11636704, -0.06924188, -0.05992933, -0.0578903 , -0.22148406,\n",
       "        -0.14473254, -0.07976556, -0.13725201, -0.10931948, -0.09564994,\n",
       "        -0.14343859, -0.16493195, -0.04638775, -0.08490547, -0.55681994,\n",
       "        -0.11316613, -0.09043225, -0.0578903 , -0.08200677, -0.13993431,\n",
       "        -0.19856897, -0.08839897, -0.07428036, -0.12253132, -0.08051938,\n",
       "        -0.04507809, -0.10649099, -0.15950995, -0.11741563, -0.08200677,\n",
       "        -0.06836678, -0.10358884, -0.09501286, -0.06748055, -0.0628657 ,\n",
       "        -0.19856897, -0.06748055, -0.08975945, -0.08975945, -0.09691198,\n",
       "        -0.15673583, -0.0628657 , -0.07263892, -0.06836678, -0.11530943,\n",
       "        -0.0841899 , -0.07263892, -0.12793594, -0.10987684, -0.06567288,\n",
       "        -0.18623317,  2.4597688 , -0.09691198]])"
      ]
     },
     "execution_count": 37,
     "metadata": {},
     "output_type": "execute_result"
    }
   ],
   "source": [
    "X= preprocessing.StandardScaler().fit(X).transform(X)\n",
    "X[0:5]"
   ]
  },
  {
   "cell_type": "markdown",
   "metadata": {
    "button": false,
    "new_sheet": false,
    "run_control": {
     "read_only": false
    }
   },
   "source": [
    "# Classification "
   ]
  },
  {
   "cell_type": "markdown",
   "metadata": {
    "button": false,
    "new_sheet": false,
    "run_control": {
     "read_only": false
    }
   },
   "source": [
    "Now, it is your turn, use the training set to build an accurate model. Then use the test set to report the accuracy of the model\n",
    "You should use the following algorithm:\n",
    "- K Nearest Neighbor(KNN)\n",
    "- Decision Tree\n",
    "- Support Vector Machine\n",
    "- Logistic Regression\n",
    "\n",
    "\n",
    "\n",
    "__ Notice:__ \n",
    "- You can go above and change the pre-processing, feature selection, feature-extraction, and so on, to make a better model.\n",
    "- You should use either scikit-learn, Scipy or Numpy libraries for developing the classification algorithms.\n",
    "- You should include the code of the algorithm in the following cells."
   ]
  },
  {
   "cell_type": "markdown",
   "metadata": {},
   "source": [
    "# K Nearest Neighbor(KNN)\n",
    "Notice: You should find the best k to build the model with the best accuracy.  \n",
    "**warning:** You should not use the __loan_test.csv__ for finding the best k, however, you can split your train_loan.csv into train and test to find the best __k__."
   ]
  },
  {
   "cell_type": "code",
   "execution_count": 124,
   "metadata": {},
   "outputs": [
    {
     "name": "stdout",
     "output_type": "stream",
     "text": [
      "Train set: (6706, 83) (6706,)\n",
      "Test set: (1677, 83) (1677,)\n"
     ]
    }
   ],
   "source": [
    "from sklearn.model_selection import train_test_split\n",
    "X_train, X_test, y_train, y_test = train_test_split( X, y, test_size=0.2, random_state=4)\n",
    "print ('Train set:', X_train.shape,  y_train.shape)\n",
    "print ('Test set:', X_test.shape,  y_test.shape)"
   ]
  },
  {
   "cell_type": "code",
   "execution_count": 125,
   "metadata": {},
   "outputs": [],
   "source": [
    "from sklearn.neighbors import KNeighborsClassifier\n",
    "from sklearn import metrics"
   ]
  },
  {
   "cell_type": "code",
   "execution_count": 126,
   "metadata": {},
   "outputs": [
    {
     "data": {
      "text/plain": [
       "array([0.45915325, 0.52653548, 0.53548002, 0.53905784, 0.54502087,\n",
       "       0.5515802 , 0.55635063, 0.56112105, 0.56350626])"
      ]
     },
     "execution_count": 126,
     "metadata": {},
     "output_type": "execute_result"
    }
   ],
   "source": [
    "Ks = 10\n",
    "mean_acc = np.zeros((Ks-1))\n",
    "std_acc = np.zeros((Ks-1))\n",
    "\n",
    "for n in range(1,Ks):\n",
    "    \n",
    "    #Train Model and Predict  \n",
    "    neigh = KNeighborsClassifier(n_neighbors = n).fit(X_train,y_train)\n",
    "    yhat=neigh.predict(X_test)\n",
    "    mean_acc[n-1] = metrics.accuracy_score(y_test, yhat)\n",
    "\n",
    "    \n",
    "    std_acc[n-1]=np.std(yhat==y_test)/np.sqrt(yhat.shape[0])\n",
    "\n",
    "mean_acc"
   ]
  },
  {
   "cell_type": "code",
   "execution_count": 127,
   "metadata": {},
   "outputs": [
    {
     "data": {
      "image/png": "[encoded data removed]",
      "text/plain": [
       "<Figure size 432x288 with 1 Axes>"
      ]
     },
     "metadata": {
      "needs_background": "light"
     },
     "output_type": "display_data"
    }
   ],
   "source": [
    "plt.plot(range(1,Ks),mean_acc,'g')\n",
    "plt.fill_between(range(1,Ks),mean_acc - 1 * std_acc,mean_acc + 1 * std_acc, alpha=0.10)\n",
    "plt.fill_between(range(1,Ks),mean_acc - 3 * std_acc,mean_acc + 3 * std_acc, alpha=0.10,color=\"green\")\n",
    "plt.legend(('Accuracy ', '+/- 1xstd','+/- 3xstd'))\n",
    "plt.ylabel('Accuracy ')\n",
    "plt.xlabel('Number of Neighbors (K)')\n",
    "plt.tight_layout()\n",
    "plt.show()"
   ]
  },
  {
   "cell_type": "markdown",
   "metadata": {},
   "source": [
    "## Random Tree"
   ]
  },
  {
   "cell_type": "code",
   "execution_count": 128,
   "metadata": {},
   "outputs": [
    {
     "name": "stdout",
     "output_type": "stream",
     "text": [
      "['90,000-99,999' '30,000-39,999' '0-29,999' '0-29,999' '0-29,999']\n",
      "['50,000-59,999' '150,000-199,999' '70,000-79,999' '0-29,999' '0-29,999']\n"
     ]
    }
   ],
   "source": [
    "from sklearn.ensemble import RandomForestClassifier\n",
    "\n",
    "#Create a Gaussian Classifier\n",
    "Rd = RandomForestClassifier(n_estimators=500)\n",
    "\n",
    "#Train the model using the training sets y_pred=clf.predict(X_test)\n",
    "Rd.fit(X_train,y_train)\n",
    "\n",
    "predRd=Rd.predict(X_test)\n",
    "print (predRd [0:5])\n",
    "print (y_test [0:5])\n"
   ]
  },
  {
   "cell_type": "markdown",
   "metadata": {},
   "source": [
    "# Decision Tree"
   ]
  },
  {
   "cell_type": "code",
   "execution_count": 129,
   "metadata": {},
   "outputs": [],
   "source": [
    "from sklearn.tree import DecisionTreeClassifier"
   ]
  },
  {
   "cell_type": "code",
   "execution_count": 130,
   "metadata": {},
   "outputs": [
    {
     "data": {
      "text/plain": [
       "DecisionTreeClassifier(criterion='entropy', max_depth=4)"
      ]
     },
     "execution_count": 130,
     "metadata": {},
     "output_type": "execute_result"
    }
   ],
   "source": [
    "Tree = DecisionTreeClassifier(criterion=\"entropy\", max_depth = 4)\n",
    "Tree # it shows the default parameters\n",
    "Tree.fit(X_train,y_train)"
   ]
  },
  {
   "cell_type": "code",
   "execution_count": 131,
   "metadata": {},
   "outputs": [
    {
     "name": "stdout",
     "output_type": "stream",
     "text": [
      "['0-29,999' '150,000-199,999' '0-29,999' '0-29,999' '0-29,999']\n",
      "['50,000-59,999' '150,000-199,999' '70,000-79,999' '0-29,999' '0-29,999']\n"
     ]
    }
   ],
   "source": [
    "predTree = Tree.predict(X_test)\n",
    "print (predTree [0:5])\n",
    "print (y_test [0:5])"
   ]
  },
  {
   "cell_type": "markdown",
   "metadata": {},
   "source": [
    "# Support Vector Machine"
   ]
  },
  {
   "cell_type": "code",
   "execution_count": 132,
   "metadata": {},
   "outputs": [
    {
     "data": {
      "text/plain": [
       "SVC()"
      ]
     },
     "execution_count": 132,
     "metadata": {},
     "output_type": "execute_result"
    }
   ],
   "source": [
    "from sklearn import svm\n",
    "clf = svm.SVC(kernel='rbf')\n",
    "clf.fit(X_train, y_train) "
   ]
  },
  {
   "cell_type": "code",
   "execution_count": 133,
   "metadata": {},
   "outputs": [
    {
     "data": {
      "text/plain": [
       "array(['0-29,999', '0-29,999', '0-29,999', '0-29,999', '0-29,999'],\n",
       "      dtype=object)"
      ]
     },
     "execution_count": 133,
     "metadata": {},
     "output_type": "execute_result"
    }
   ],
   "source": [
    "yhat = clf.predict(X_test)\n",
    "yhat [0:5]"
   ]
  },
  {
   "cell_type": "code",
   "execution_count": null,
   "metadata": {},
   "outputs": [],
   "source": []
  },
  {
   "cell_type": "markdown",
   "metadata": {},
   "source": [
    "# Logistic Regression"
   ]
  },
  {
   "cell_type": "code",
   "execution_count": 134,
   "metadata": {},
   "outputs": [
    {
     "data": {
      "text/plain": [
       "LogisticRegression(C=0.01, solver='liblinear')"
      ]
     },
     "execution_count": 134,
     "metadata": {},
     "output_type": "execute_result"
    }
   ],
   "source": [
    "from sklearn.linear_model import LogisticRegression\n",
    "from sklearn.metrics import confusion_matrix\n",
    "LR = LogisticRegression(C=0.01, solver='liblinear').fit(X_train,y_train)\n",
    "LR"
   ]
  },
  {
   "cell_type": "code",
   "execution_count": 135,
   "metadata": {},
   "outputs": [
    {
     "data": {
      "text/plain": [
       "array(['0-29,999', '0-29,999', '0-29,999', '0-29,999', '0-29,999'],\n",
       "      dtype=object)"
      ]
     },
     "execution_count": 135,
     "metadata": {},
     "output_type": "execute_result"
    }
   ],
   "source": [
    "yhat = LR.predict(X_test)\n",
    "yhat [0:5]"
   ]
  },
  {
   "cell_type": "markdown",
   "metadata": {},
   "source": [
    "# Model Evaluation using Test set"
   ]
  },
  {
   "cell_type": "code",
   "execution_count": 136,
   "metadata": {},
   "outputs": [],
   "source": [
    "from sklearn.metrics import jaccard_score\n",
    "from sklearn.metrics import f1_score\n",
    "from sklearn.metrics import log_loss"
   ]
  },
  {
   "cell_type": "markdown",
   "metadata": {},
   "source": [
    "First, download and load the test set:"
   ]
  },
  {
   "cell_type": "markdown",
   "metadata": {
    "button": false,
    "new_sheet": false,
    "run_control": {
     "read_only": false
    }
   },
   "source": [
    "### Load Test set for evaluation "
   ]
  },
  {
   "cell_type": "code",
   "execution_count": 137,
   "metadata": {
    "button": false,
    "new_sheet": false,
    "run_control": {
     "read_only": false
    }
   },
   "outputs": [
    {
     "data": {
      "text/html": [
       "<div>\n",
       "<style scoped>\n",
       "    .dataframe tbody tr th:only-of-type {\n",
       "        vertical-align: middle;\n",
       "    }\n",
       "\n",
       "    .dataframe tbody tr th {\n",
       "        vertical-align: top;\n",
       "    }\n",
       "\n",
       "    .dataframe thead th {\n",
       "        text-align: right;\n",
       "    }\n",
       "</style>\n",
       "<table border=\"1\" class=\"dataframe\">\n",
       "  <thead>\n",
       "    <tr style=\"text-align: right;\">\n",
       "      <th></th>\n",
       "      <th>age</th>\n",
       "      <th>gender</th>\n",
       "      <th>country</th>\n",
       "      <th>education</th>\n",
       "      <th>job</th>\n",
       "      <th>salary</th>\n",
       "    </tr>\n",
       "  </thead>\n",
       "  <tbody>\n",
       "    <tr>\n",
       "      <th>0</th>\n",
       "      <td>30-34</td>\n",
       "      <td>Male</td>\n",
       "      <td>United States of America</td>\n",
       "      <td>Master’s degree</td>\n",
       "      <td>Data Engineer</td>\n",
       "      <td>100,000-124,999</td>\n",
       "    </tr>\n",
       "    <tr>\n",
       "      <th>1</th>\n",
       "      <td>35-39</td>\n",
       "      <td>Male</td>\n",
       "      <td>Argentina</td>\n",
       "      <td>Bachelor’s degree</td>\n",
       "      <td>Software Engineer</td>\n",
       "      <td>0-29,999</td>\n",
       "    </tr>\n",
       "    <tr>\n",
       "      <th>2</th>\n",
       "      <td>30-34</td>\n",
       "      <td>Male</td>\n",
       "      <td>United States of America</td>\n",
       "      <td>Master’s degree</td>\n",
       "      <td>Data Scientist</td>\n",
       "      <td>125,000-149,999</td>\n",
       "    </tr>\n",
       "    <tr>\n",
       "      <th>3</th>\n",
       "      <td>35-39</td>\n",
       "      <td>Male</td>\n",
       "      <td>Germany</td>\n",
       "      <td>Doctoral degree</td>\n",
       "      <td>Data Scientist</td>\n",
       "      <td>70,000-79,999</td>\n",
       "    </tr>\n",
       "    <tr>\n",
       "      <th>4</th>\n",
       "      <td>35-39</td>\n",
       "      <td>Male</td>\n",
       "      <td>United States of America</td>\n",
       "      <td>Doctoral degree</td>\n",
       "      <td>Research Scientist</td>\n",
       "      <td>30,000-39,999</td>\n",
       "    </tr>\n",
       "  </tbody>\n",
       "</table>\n",
       "</div>"
      ],
      "text/plain": [
       "     age gender                   country          education  \\\n",
       "0  30-34   Male  United States of America    Master’s degree   \n",
       "1  35-39   Male                 Argentina  Bachelor’s degree   \n",
       "2  30-34   Male  United States of America    Master’s degree   \n",
       "3  35-39   Male                   Germany    Doctoral degree   \n",
       "4  35-39   Male  United States of America    Doctoral degree   \n",
       "\n",
       "                  job           salary  \n",
       "0       Data Engineer  100,000-124,999  \n",
       "1   Software Engineer         0-29,999  \n",
       "2      Data Scientist  125,000-149,999  \n",
       "3      Data Scientist    70,000-79,999  \n",
       "4  Research Scientist    30,000-39,999  "
      ]
     },
     "execution_count": 137,
     "metadata": {},
     "output_type": "execute_result"
    }
   ],
   "source": [
    "test_df = pd.read_csv('C:/Users/taihs/OneDrive/Documents/SGunited Data Analyst/capstone 3/salary_new.csv')\n",
    "test_df.head()"
   ]
  },
  {
   "cell_type": "code",
   "execution_count": 138,
   "metadata": {},
   "outputs": [
    {
     "data": {
      "text/html": [
       "<div>\n",
       "<style scoped>\n",
       "    .dataframe tbody tr th:only-of-type {\n",
       "        vertical-align: middle;\n",
       "    }\n",
       "\n",
       "    .dataframe tbody tr th {\n",
       "        vertical-align: top;\n",
       "    }\n",
       "\n",
       "    .dataframe thead th {\n",
       "        text-align: right;\n",
       "    }\n",
       "</style>\n",
       "<table border=\"1\" class=\"dataframe\">\n",
       "  <thead>\n",
       "    <tr style=\"text-align: right;\">\n",
       "      <th></th>\n",
       "      <th>age</th>\n",
       "      <th>gender</th>\n",
       "      <th>country</th>\n",
       "      <th>education</th>\n",
       "      <th>job</th>\n",
       "      <th>salary</th>\n",
       "    </tr>\n",
       "  </thead>\n",
       "  <tbody>\n",
       "    <tr>\n",
       "      <th>0</th>\n",
       "      <td>30-34</td>\n",
       "      <td>0</td>\n",
       "      <td>United States of America</td>\n",
       "      <td>Master’s degree</td>\n",
       "      <td>Data Engineer</td>\n",
       "      <td>100,000-124,999</td>\n",
       "    </tr>\n",
       "    <tr>\n",
       "      <th>1</th>\n",
       "      <td>35-39</td>\n",
       "      <td>0</td>\n",
       "      <td>Argentina</td>\n",
       "      <td>Bachelor’s degree</td>\n",
       "      <td>Software Engineer</td>\n",
       "      <td>0-29,999</td>\n",
       "    </tr>\n",
       "    <tr>\n",
       "      <th>2</th>\n",
       "      <td>30-34</td>\n",
       "      <td>0</td>\n",
       "      <td>United States of America</td>\n",
       "      <td>Master’s degree</td>\n",
       "      <td>Data Scientist</td>\n",
       "      <td>125,000-149,999</td>\n",
       "    </tr>\n",
       "    <tr>\n",
       "      <th>3</th>\n",
       "      <td>35-39</td>\n",
       "      <td>0</td>\n",
       "      <td>Germany</td>\n",
       "      <td>Doctoral degree</td>\n",
       "      <td>Data Scientist</td>\n",
       "      <td>70,000-79,999</td>\n",
       "    </tr>\n",
       "    <tr>\n",
       "      <th>4</th>\n",
       "      <td>35-39</td>\n",
       "      <td>0</td>\n",
       "      <td>United States of America</td>\n",
       "      <td>Doctoral degree</td>\n",
       "      <td>Research Scientist</td>\n",
       "      <td>30,000-39,999</td>\n",
       "    </tr>\n",
       "  </tbody>\n",
       "</table>\n",
       "</div>"
      ],
      "text/plain": [
       "     age  gender                   country          education  \\\n",
       "0  30-34       0  United States of America    Master’s degree   \n",
       "1  35-39       0                 Argentina  Bachelor’s degree   \n",
       "2  30-34       0  United States of America    Master’s degree   \n",
       "3  35-39       0                   Germany    Doctoral degree   \n",
       "4  35-39       0  United States of America    Doctoral degree   \n",
       "\n",
       "                  job           salary  \n",
       "0       Data Engineer  100,000-124,999  \n",
       "1   Software Engineer         0-29,999  \n",
       "2      Data Scientist  125,000-149,999  \n",
       "3      Data Scientist    70,000-79,999  \n",
       "4  Research Scientist    30,000-39,999  "
      ]
     },
     "execution_count": 138,
     "metadata": {},
     "output_type": "execute_result"
    }
   ],
   "source": [
    "test_df['gender'].replace(to_replace=['Male','Female'], value=[0,1],inplace=True)\n",
    "test_df.head()"
   ]
  },
  {
   "cell_type": "code",
   "execution_count": 139,
   "metadata": {},
   "outputs": [],
   "source": [
    "Feature = test_df[['gender']]\n",
    "Feature = pd.concat([Feature,pd.get_dummies(test_df['age'])], axis=1)\n",
    "Feature = pd.concat([Feature,pd.get_dummies(test_df['education'])], axis=1)\n",
    "Feature = pd.concat([Feature,pd.get_dummies(test_df['job'])], axis=1)\n",
    "Feature = pd.concat([Feature,pd.get_dummies(test_df['country'])], axis=1)\n",
    "X = Feature\n",
    "y = test_df['salary'].values\n",
    "##X= preprocessing.StandardScaler().fit(X).transform(X)"
   ]
  },
  {
   "cell_type": "code",
   "execution_count": 140,
   "metadata": {},
   "outputs": [],
   "source": [
    "neigh = KNeighborsClassifier(n_neighbors = 9).fit(X_train,y_train)\n",
    "yhat1 = neigh.predict(X)\n",
    "yhat2 = Tree.predict(X)\n",
    "yhat3 = clf.predict(X)\n",
    "yhat4 = LR.predict(X)\n",
    "yhat5 = Rd.predict(X)"
   ]
  },
  {
   "cell_type": "code",
   "execution_count": 141,
   "metadata": {},
   "outputs": [
    {
     "name": "stdout",
     "output_type": "stream",
     "text": [
      "KNN F1-score:  0.5353443078469671\n",
      "Decision Tree F1-score:  0.49364310425158053\n",
      "SVM F1-score:  0.5150430284539621\n",
      "Logistic Reg F1-score:  0.42877020068265154\n",
      "Random Tree F1-score:  0.7414027311822854\n",
      "ACCURACY OF THE MODEL:  0.7556960515328641\n"
     ]
    }
   ],
   "source": [
    "print ('KNN F1-score: ' ,f1_score(y, yhat1, average='weighted'))\n",
    "print ('Decision Tree F1-score: ',f1_score(y, yhat2, average='weighted'))\n",
    "print ('SVM F1-score: ',f1_score(y, yhat3, average='weighted') )\n",
    "print ('Logistic Reg F1-score: ',f1_score(y, yhat4, average='weighted') )\n",
    "print ('Random Tree F1-score: ',f1_score(y, yhat5, average='weighted') )\n",
    "print(\"ACCURACY OF THE MODEL: \", metrics.accuracy_score(y, yhat5))\n",
    "\n",
    "data = {'Model':['Random Tree','KNN', 'SVM', 'Decision Tree', 'Logistic'], \n",
    "        'F1 Score':[0.7414027311822854, 0.5353443078469671, 0.5150430284539621, 0.49364310425158053, 0.42877020068265154]} \n",
    "  \n",
    "F1score = pd.DataFrame(data)"
   ]
  },
  {
   "cell_type": "code",
   "execution_count": 142,
   "metadata": {},
   "outputs": [],
   "source": [
    "import pickle\n",
    "\n",
    "with open('neigh.pickle', 'wb') as f:\n",
    "     pickle.dump(neigh, f)\n",
    "with open('Tree.pickle', 'wb') as f:\n",
    "     pickle.dump(Tree, f)\n",
    "with open('clf.pickle', 'wb') as f:\n",
    "     pickle.dump(clf, f)\n",
    "with open('LR.pickle', 'wb') as f:\n",
    "     pickle.dump(LR, f)\n",
    "with open('Random.pickle', 'wb') as f:\n",
    "     pickle.dump(Rd, f)"
   ]
  },
  {
   "cell_type": "code",
   "execution_count": 143,
   "metadata": {},
   "outputs": [],
   "source": [
    "import pandas as pd\n",
    "import numpy as np\n",
    "import pickle\n",
    "##from sklearn import preprocessing\n",
    "\n",
    "test_df = pd.read_csv('C:/Users/taihs/OneDrive/Documents/SGunited Data Analyst/capstone 3/salary_predict.csv')\n",
    "test_df['gender'].replace(to_replace=['Male','Female'], value=[0,1],inplace=True)\n",
    "Feature = test_df[['gender']]\n",
    "Feature = pd.concat([Feature,pd.get_dummies(test_df['age'])], axis=1)\n",
    "Feature = pd.concat([Feature,pd.get_dummies(test_df['education'])], axis=1)\n",
    "Feature = pd.concat([Feature,pd.get_dummies(test_df['job'])], axis=1)\n",
    "Feature = pd.concat([Feature,pd.get_dummies(test_df['country'])], axis=1)\n",
    "\n",
    "X = Feature\n",
    "##X= preprocessing.StandardScaler().fit(X).transform(X)\n",
    "##X_train, X_test, y_train, y_test = train_test_split( X, y, test_size=0.2, random_state=4)\n",
    "\n",
    "with open('C:/Users/taihs/OneDrive/Documents/SGunited Data Analyst/capstone 3/neigh.pickle','rb') as model_file:\n",
    "     neigh = pickle.load(model_file)\n",
    "with open('C:/Users/taihs/OneDrive/Documents/SGunited Data Analyst/capstone 3/Tree.pickle','rb') as model_file:\n",
    "     Tree = pickle.load(model_file)\n",
    "with open('C:/Users/taihs/OneDrive/Documents/SGunited Data Analyst/capstone 3/clf.pickle','rb') as model_file:\n",
    "     clf = pickle.load(model_file)\n",
    "with open('C:/Users/taihs/OneDrive/Documents/SGunited Data Analyst/capstone 3/LR.pickle','rb') as model_file:\n",
    "     LR = pickle.load(model_file)\n",
    "with open('C:/Users/taihs/OneDrive/Documents/SGunited Data Analyst/capstone 3/Random.pickle','rb') as model_file:\n",
    "     Rd = pickle.load(model_file)\n",
    "        \n",
    "yhat1 = Rd.predict(X)\n",
    "result1 = pd.concat([test_df, pd.DataFrame(yhat1)], axis=1)\n",
    "result1.rename(columns = {0:'predicted salary for Random Tree'}, inplace = True) \n",
    "result1['gender'].replace(to_replace=[0, 1], value=['Male','Female'],inplace=True)\n",
    "\n",
    "yhat1 = neigh.predict(X)\n",
    "result1 = pd.concat([result1, pd.DataFrame(yhat1)], axis=1)\n",
    "result1.rename(columns = {0:'predicted salary for KNN'}, inplace = True) \n",
    "\n",
    "yhat1 = Tree.predict(X)\n",
    "result1 = pd.concat([result1, pd.DataFrame(yhat1)], axis=1)\n",
    "result1.rename(columns = {0:'predicted salary for Decision Tree'}, inplace = True) \n",
    "\n",
    "yhat1 = clf.predict(X)\n",
    "result1 = pd.concat([result1, pd.DataFrame(yhat1)], axis=1)\n",
    "result1.rename(columns = {0:'predicted salary for SVM'}, inplace = True) \n",
    "\n",
    "yhat1 = LR.predict(X)\n",
    "result1 = pd.concat([result1, pd.DataFrame(yhat1)], axis=1)\n",
    "result1.rename(columns = {0:'predicted salary for Logistic Regression'}, inplace = True) \n",
    "\n",
    "data = {'Model':['Random Tree','KNN', 'SVM', 'Decision Tree', 'Logistic'], \n",
    "        'F1 Score':[0.5474621092341404, 0.2669620479984838, 0.22336967163647195, 0.09287632824073264, 0.08811338140547487],\n",
    "        'New F1 Score':[0.7414027311822854, 0.5353443078469671, 0.5150430284539621, 0.49364310425158053, 0.42877020068265154]}\n",
    "\n",
    "F1score = pd.DataFrame(data)"
   ]
  },
  {
   "cell_type": "code",
   "execution_count": 32,
   "metadata": {},
   "outputs": [
    {
     "name": "stdout",
     "output_type": "stream",
     "text": [
      "Logistic Reg Logloss:  3.387769797168502\n"
     ]
    }
   ],
   "source": [
    "from sklearn.metrics import log_loss\n",
    "yhat_prob = LR.predict_proba(X)\n",
    "print ('Logistic Reg Logloss: ', log_loss(y, yhat_prob))"
   ]
  },
  {
   "cell_type": "code",
   "execution_count": 33,
   "metadata": {},
   "outputs": [
    {
     "name": "stdout",
     "output_type": "stream",
     "text": [
      "KNN jaccard:  0.04345130785132453\n",
      "Decision Tree jaccard:  0.018048821656871248\n",
      "SVM jaccard:  0.04300346345876174\n",
      "Logistic Reg jaccard:  0.027364621429625306\n"
     ]
    }
   ],
   "source": [
    "print ('KNN jaccard: ', jaccard_score(y, yhat1,labels=None,average='weighted'))\n",
    "print ('Decision Tree jaccard: ', jaccard_score(y, yhat2,labels=None, average='weighted'))\n",
    "print ('SVM jaccard: ', jaccard_score(y, yhat3,labels=None,average='weighted'))\n",
    "print ('Logistic Reg jaccard: ', jaccard_score(y, yhat4,labels=None,average='weighted'))\n",
    "#jac_sc=jaccard_score(y_test,yhat,labels=None,average='weighted',sample_weight=None)"
   ]
  },
  {
   "cell_type": "markdown",
   "metadata": {},
   "source": [
    "# Report\n",
    "You should be able to report the accuracy of the built model using different evaluation metrics:"
   ]
  },
  {
   "cell_type": "markdown",
   "metadata": {},
   "source": [
    "| Algorithm          | Jaccard | F1-score | LogLoss |\n",
    "|--------------------|---------|----------|---------|\n",
    "| KNN                | ?       | ?        | NA      |\n",
    "| Decision Tree      | ?       | ?        | NA      |\n",
    "| SVM                | ?       | ?        | NA      |\n",
    "| LogisticRegression | ?       | ?        | ?       |"
   ]
  }
 ],
 "metadata": {
  "kernelspec": {
   "display_name": "Python 3",
   "language": "python",
   "name": "python3"
  },
  "language_info": {
   "codemirror_mode": {
    "name": "ipython",
    "version": 3
   },
   "file_extension": ".py",
   "mimetype": "text/x-python",
   "name": "python",
   "nbconvert_exporter": "python",
   "pygments_lexer": "ipython3",
   "version": "3.8.3"
  }
 },
 "nbformat": 4,
 "nbformat_minor": 2
}
